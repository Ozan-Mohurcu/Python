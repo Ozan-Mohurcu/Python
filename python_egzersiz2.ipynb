{
 "cells": [
  {
   "cell_type": "markdown",
   "metadata": {},
   "source": [
    "### baskent bilme oyunu \n",
    "#### Ülkke random gelsin,\n",
    "- Başkenti biz yazalım,\n",
    "- Doğru ise  bildiniz, \n",
    "- Değil ise  tekrar deneyiniz desin, \n",
    "- ve bu loop ile devam etsin."
   ]
  },
  {
   "cell_type": "code",
   "execution_count": 1,
   "metadata": {},
   "outputs": [
    {
     "name": "stdout",
     "output_type": "stream",
     "text": [
      "tekrar deneyiniz\n",
      "Dogru bildiniz,Hollanda, Amsterdam \n",
      "Dogru bildiniz,Yunanistan, Atina \n",
      "cikis yapiliyor\n"
     ]
    }
   ],
   "source": [
    "country_capitals = {\n",
    "    'Türkiye': 'Ankara',\n",
    "    'Fransa': 'Paris',\n",
    "    'Almanya': 'Berlin',\n",
    "    'İtalya': 'Roma',\n",
    "    'İspanya': 'Madrid',\n",
    "    'Portekiz': 'Lizbon',\n",
    "    'Hollanda': 'Amsterdam',\n",
    "    'Belçika': 'Bruksel',\n",
    "    'İsviçre': 'Bern',\n",
    "    'Avusturya': 'Viyana',\n",
    "    'Yunanistan': 'Atina',\n",
    "    'İngiltere': 'Londra',\n",
    "    'İsveç': 'Stockholm',\n",
    "    'Norveç': 'Oslo',\n",
    "    'Danimarka': 'Kopenhag',\n",
    "    'Finlandiya': 'Helsinki',\n",
    "    'Rusya': 'Moskova',\n",
    "    'Çin': 'Pekin',\n",
    "    'Japonya': 'Tokyo',\n",
    "    'Hindistan': 'Yeni Delhi'\n",
    "}\n",
    "\n",
    "import random\n",
    "# print(country_capitals.items())\n",
    "while True:\n",
    "    country,  capital = random.choice(list(country_capitals.items()))\n",
    "    #print(country)\n",
    "    #print(capital)\n",
    "    capital_guess = input(f'{country} in baskentini giriniz, cikmak icin e ye basiniz').strip()\n",
    "\n",
    "    if capital == capital_guess.title():\n",
    "        print(f'Dogru bildiniz,{country}, {capital} ')\n",
    "        continue\n",
    "    elif capital_guess.lower() == 'e':\n",
    "        print('cikis yapiliyor')\n",
    "        break\n",
    "    else:\n",
    "        print('tekrar deneyiniz')"
   ]
  },
  {
   "cell_type": "markdown",
   "metadata": {},
   "source": [
    "-----------------------------------------------------------------------------------------------------------"
   ]
  },
  {
   "cell_type": "markdown",
   "metadata": {},
   "source": [
    "Kiraları liste seklinde arg ile alip ortalamasını bulan ve\n",
    "- kullanıcın aylık gelirinden buyuk ise\n",
    "- uygun kiralanabilir\n",
    "- değilse pahali yazdıran programı üretiniz."
   ]
  },
  {
   "cell_type": "code",
   "execution_count": 2,
   "metadata": {},
   "outputs": [
    {
     "data": {
      "text/plain": [
       "'uygun, kiralanabilir'"
      ]
     },
     "execution_count": 2,
     "metadata": {},
     "output_type": "execute_result"
    }
   ],
   "source": [
    "def kira_analizi(*kiralar, gelir): # kiralar diye listem var. \n",
    "    avg = sum(kiralar) / len(kiralar) # ortalama bulma.\n",
    "    return 'uygun, kiralanabilir' if gelir > avg else 'pahali'\n",
    "\n",
    "kiralar = [30000, 20000, 35000, 28000]\n",
    "kira_analizi(*kiralar, gelir = 90000) "
   ]
  },
  {
   "cell_type": "markdown",
   "metadata": {},
   "source": [
    "----------------------------------------------------------------------------------------------------------------------"
   ]
  },
  {
   "cell_type": "markdown",
   "metadata": {},
   "source": [
    "-  koku tam sayi olan sayilara kare sayi denir\n",
    "-  bir sayinin kare oldugunu teshis eden bir fonksiyon yazin.\n",
    "-  kare sayilari ve koklerini cikti alin\n",
    "-  ornek cikti: The numbers whichs root is whole number [25, 81, 9, 64] and their roots [5.0, 9.0, 3.0, 8.0]"
   ]
  },
  {
   "cell_type": "code",
   "execution_count": 3,
   "metadata": {},
   "outputs": [
    {
     "name": "stdout",
     "output_type": "stream",
     "text": [
      "[1, 4, 9, 16, 25, 36, 49, 64, 81, 100]\n",
      "[1.0, 2.0, 3.0, 4.0, 5.0, 6.0, 7.0, 8.0, 9.0, 10.0]\n"
     ]
    }
   ],
   "source": [
    "import math\n",
    "def is_square(num):\n",
    "    square_root = str(math.sqrt(num))\n",
    "    return True if square_root.split('.')[1] == '0' else False \n",
    "\n",
    "def find_root(num):\n",
    "    return math.sqrt(num)\n",
    "    \n",
    "\n",
    "numbers_has_roots = list(filter(is_square, range(1,101)))\n",
    "print(numbers_has_roots)\n",
    "\n",
    "kokleri = list(map(find_root,numbers_has_roots))\n",
    "\n",
    "print(kokleri) "
   ]
  }
 ],
 "metadata": {
  "kernelspec": {
   "display_name": "Python 3",
   "language": "python",
   "name": "python3"
  },
  "language_info": {
   "codemirror_mode": {
    "name": "ipython",
    "version": 3
   },
   "file_extension": ".py",
   "mimetype": "text/x-python",
   "name": "python",
   "nbconvert_exporter": "python",
   "pygments_lexer": "ipython3",
   "version": "3.12.6"
  }
 },
 "nbformat": 4,
 "nbformat_minor": 2
}
