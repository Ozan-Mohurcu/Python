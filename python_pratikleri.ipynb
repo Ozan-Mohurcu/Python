{
 "cells": [
  {
   "cell_type": "markdown",
   "metadata": {},
   "source": [
    "## <p style=\"color:Red\">**Python Pratikleri**</p>"
   ]
  },
  {
   "cell_type": "markdown",
   "metadata": {},
   "source": [
    "#### <p style=\"color:Red\"> Soru-1</p>\n",
    "1. Bir değişken tanımla ve içine kullanıcının yaşını isteyip sakla. Ardından yaşın 10 yıl sonra kaç olacağını hesapla ve ekrana yazdır."
   ]
  },
  {
   "cell_type": "code",
   "execution_count": 1,
   "metadata": {},
   "outputs": [
    {
     "name": "stdout",
     "output_type": "stream",
     "text": [
      "30 yaşında olan bir kişi 10 yıl sonra 40 yaşında olacaktır.\n"
     ]
    }
   ],
   "source": [
    "yas = int(input(\"Lütfen yaşınızı giriniz: \"))         # Kullanıcıdan yaş girişi alıyoruz\n",
    "\n",
    "\n",
    "yas_10_yil_sonra = yas + 10                           # Şu anki yaşa 10 yıl ekleyerek gelecekteki yaşı hesaplıyoruz\n",
    "\n",
    "\n",
    "print(f\"{yas} yaşında olan bir kişi 10 yıl sonra {yas_10_yil_sonra} yaşında olacaktır.\")    # Sonucu ekrana yazdırıyoruz"
   ]
  },
  {
   "cell_type": "markdown",
   "metadata": {},
   "source": [
    "#### <p style=\"color:Red\"> Soru-2</p>\n",
    "2. Kullanıcıdan bir sayı al ve pozitif mi negatif mi olduğunu ekrana yazdır."
   ]
  },
  {
   "cell_type": "code",
   "execution_count": 2,
   "metadata": {},
   "outputs": [
    {
     "name": "stdout",
     "output_type": "stream",
     "text": [
      "Girilen sayı sıfır.\n"
     ]
    }
   ],
   "source": [
    "sayi = float(input(\"Bir sayı girin: \"))      # Kullanıcıdan bir sayı girmesini isteriz\n",
    "\n",
    "\n",
    "if sayi > 0:                                  # Sayı pozitifse bu kod bloğu çalışır.\n",
    "    print(\"Girilen sayı pozitif.\")   \n",
    "elif sayi < 0:                                # Sayı negatifse bu kod bloğu çalışır.\n",
    "    print(\"Girilen sayı negatif.\")  \n",
    "else:                                         # Sayı sıfırsa bu kod bloğu çalışır.\n",
    "    print(\"Girilen sayı sıfır.\")"
   ]
  },
  {
   "cell_type": "markdown",
   "metadata": {},
   "source": [
    "#### <p style=\"color:Red\"> Soru-3</p>\n",
    "3. 1’den 10’a kadar olan sayıların toplamını bir for döngüsüyle hesapla."
   ]
  },
  {
   "cell_type": "code",
   "execution_count": 3,
   "metadata": {},
   "outputs": [
    {
     "name": "stdout",
     "output_type": "stream",
     "text": [
      "1'den 10'a kadar olan sayıların toplamı: 55\n"
     ]
    }
   ],
   "source": [
    "toplam = 0  # Toplamı sıfır olarak başlatıyoruz.\n",
    "\n",
    "for sayi in range(1, 11):  # 1'den 10'a kadar olan sayıları sırasıyla alırız.\n",
    "    toplam += sayi  # Her sayıyı toplam değişkenine ekliyoruz.\n",
    "\n",
    "print(\"1'den 10'a kadar olan sayıların toplamı:\", toplam)  # Sonucu ekrana yazdırıyoruz."
   ]
  },
  {
   "cell_type": "markdown",
   "metadata": {},
   "source": [
    "#### <p style=\"color:Red\"> Soru-4</p>\n",
    "4. 1’den 10’a kadar olan sayıların toplamını bir while döngüsüyle hesapla."
   ]
  },
  {
   "cell_type": "code",
   "execution_count": null,
   "metadata": {},
   "outputs": [
    {
     "name": "stdout",
     "output_type": "stream",
     "text": [
      "1'den 10'a kadar olan sayıların toplamı: 55\n"
     ]
    }
   ],
   "source": [
    "sayi = 1  # Başlangıç sayısını 1 olarak belirliyoruz.\n",
    "toplam = 0  # Toplamı sıfır olarak başlatıyoruz.\n",
    "\n",
    "while sayi <= 10:  # sayi 10'dan küçük veya eşit olduğu sürece döngü devam eder.\n",
    "    toplam += sayi  # sayiyi toplam değişkenine ekliyoruz.\n",
    "    sayi += 1  # sayiyi 1 artırıyoruz.\n",
    "\n",
    "print(\"1'den 10'a kadar olan sayıların toplamı:\", toplam)  # Sonucu ekrana yazdırıyoruz."
   ]
  },
  {
   "cell_type": "markdown",
   "metadata": {},
   "source": [
    "#### <p style=\"color:Red\"> Soru-5</p>\n",
    "5. Kullanıcıdan birkaç şehir ismi al ve bu şehirleri bir listeye ekle. Sonra alfabetik olarak sıralayıp ekrana yazdır."
   ]
  },
  {
   "cell_type": "code",
   "execution_count": null,
   "metadata": {},
   "outputs": [
    {
     "name": "stdout",
     "output_type": "stream",
     "text": [
      "Alfabetik sıraya göre şehirler:\n",
      "adana\n",
      "anakra\n",
      "istanbul\n",
      "izmir\n"
     ]
    }
   ],
   "source": [
    "sehirler = []  # Boş bir liste oluşturuyoruz, şehir isimlerini burada depolayacağız.\n",
    "\n",
    "while True:  # Sonsuz döngü başlatıyoruz.\n",
    "    sehir = input(\"Bir şehir ismi girin (çıkmak için 'q' yazın): \")  # Kullanıcıdan şehir ismi alıyoruz.\n",
    "    if sehir.lower() == 'q':  # Eğer kullanıcı 'q' yazarsa.\n",
    "        break  # Döngüyü sonlandırıyoruz.\n",
    "\n",
    "    sehirler.append(sehir)  # Girilen şehir ismini listeye ekliyoruz.\n",
    "\n",
    "sehirler.sort()  # Listeyi alfabetik sıraya göre sıralıyoruz.\n",
    "\n",
    "print(\"Alfabetik sıraya göre şehirler:\")  # Sonuç mesajını yazdırıyoruz.\n",
    "for sehir in sehirler:  # Şehirler listesinde sırayla gezerek her şehri yazdırıyoruz.\n",
    "    print(sehir)"
   ]
  },
  {
   "cell_type": "markdown",
   "metadata": {},
   "source": [
    "#### <p style=\"color:Red\"> Soru-6</p>\n",
    "6. Verilen iki sayının çarpımını hesaplayan ve sonucu döndüren bir fonksiyon tanımla"
   ]
  },
  {
   "cell_type": "code",
   "execution_count": 6,
   "metadata": {},
   "outputs": [
    {
     "name": "stdout",
     "output_type": "stream",
     "text": [
      "verilen ilk sayi 5 diğer sayı 10 ve bu iki sayinin çarpımı 50'dir.\n"
     ]
    }
   ],
   "source": [
    "x = 5                   # x değişkenine 5 değerini atıyoruz.\n",
    "y = 10                  # y değişkenine 10 değerini atıyoruz.\n",
    "carpım = x * y          # x ve y'nin çarpımını carpım değişkenine atıyoruz.\n",
    "print(f\"verilen ilk sayi {x} diğer sayı {y} ve bu iki sayinin çarpımı {carpım}'dir.\")  # Sonucu f-string ile yazdırıyoruz.\n"
   ]
  },
  {
   "cell_type": "markdown",
   "metadata": {},
   "source": [
    "#### <p style=\"color:Red\"> Soru-7</p>\n",
    "7. Verilen iki stringden birini diğerinin ortasına ekleyerek yeni bir string oluşturun."
   ]
  },
  {
   "cell_type": "code",
   "execution_count": 7,
   "metadata": {},
   "outputs": [
    {
     "name": "stdout",
     "output_type": "stream",
     "text": [
      "Yeni oluşturulan string: OzMOHURCUan\n"
     ]
    }
   ],
   "source": [
    "ilk_string = \"Ozan\"  # ilk_string değişkenine \"Ozan\" değerini atıyoruz.\n",
    "\n",
    "ikinci_string = \"MOHURCU\"  # ikinci_string değişkenine \"MOHURCU\" değerini atıyoruz.\n",
    "\n",
    "ort_index = len(ilk_string) // 2  # ilk_string'in uzunluğunun yarısını hesaplıyoruz.\n",
    "\n",
    "yeni_string = ilk_string[:ort_index] + ikinci_string + ilk_string[ort_index:]  # iki string'i birleştiriyoruz.\n",
    "\n",
    "print(\"Yeni oluşturulan string:\", yeni_string)  # Sonucu yazdırıyoruz.\n"
   ]
  },
  {
   "cell_type": "markdown",
   "metadata": {},
   "source": [
    "#### <p style=\"color:Red\"> Soru-8</p>\n",
    "8. Kullanıcıdan aldığınız bir dizenin ilk 2 ve son 2 karakterinden oluşan bir dize döndürün. Dize uzunluğu 4’den az ise \"boş string” döndürün."
   ]
  },
  {
   "cell_type": "code",
   "execution_count": 8,
   "metadata": {},
   "outputs": [
    {
     "name": "stdout",
     "output_type": "stream",
     "text": [
      "pyc\n"
     ]
    }
   ],
   "source": [
    "kullanıcı = input(\"bir sözcük yaz\")  # Kullanıcıdan bir kelime girmesini istiyoruz.\n",
    "\n",
    "if len(kullanıcı) < 4:  # Eğer kelimenin uzunluğu 4'ten küçükse;\n",
    "    print(\"bos string\")  # \"bos string\" mesajını yazdırıyoruz.\n",
    "    \n",
    "else:\n",
    "    yeni_dize = kullanıcı[:2] + kullanıcı[-2]  # İlk iki karakteri ve sondan ikinci karakteri birleştiriyoruz.\n",
    "    print(yeni_dize)  # Yeni oluşturduğumuz stringi yazdırıyoruz.\n"
   ]
  },
  {
   "cell_type": "markdown",
   "metadata": {},
   "source": [
    "#### <p style=\"color:Red\"> Soru-9</p>\n",
    "9. Verilen dizedeki bir alt dizenin kaç kez geçtiğini bulan programı yazın."
   ]
  },
  {
   "cell_type": "code",
   "execution_count": 9,
   "metadata": {},
   "outputs": [
    {
     "name": "stdout",
     "output_type": "stream",
     "text": [
      "alt dize can ana dizide 4 kez geçiyor.\n"
     ]
    }
   ],
   "source": [
    "ana_dize = \" can can dostuyla can sıkıntısını gidermek için canla basla calıstı.\".lower()  # Ana dizeyi küçük harfe çeviriyoruz.\n",
    "\n",
    "alt_dize = \"can\"  # Alt dizemizi \"can\" olarak belirliyoruz.\n",
    "\n",
    "sayac = ana_dize.count(alt_dize)  # Ana dizedeki \"can\" alt dizelerinin sayısını hesaplıyoruz.\n",
    "\n",
    "print(f\"alt dize {alt_dize} ana dizide {sayac} kez geçiyor.\")  # Sonucu yazdırıyoruz."
   ]
  },
  {
   "cell_type": "markdown",
   "metadata": {},
   "source": [
    "#### <p style=\"color:Red\"> Soru-10</p>\n",
    "10. Öğrencilerin isim ve notlarını içeren bir sözlük oluştur. Bir öğrencinin notunu arama ve yazdırma işlemi yap."
   ]
  },
  {
   "cell_type": "code",
   "execution_count": 10,
   "metadata": {},
   "outputs": [
    {
     "name": "stdout",
     "output_type": "stream",
     "text": [
      "maraz ali adlı öğrenci bulunamadı.\n"
     ]
    }
   ],
   "source": [
    "öğrenci_notlari = {\"ozan\": 100, \n",
    "                    \"mehmet\" : 55 , \n",
    "                    \"ahmet\" : 75, \n",
    "                    \"mustafa\" : 85 }      # Öğrencilerin isimleri ve notlarının bulunduğu bir sözlük.\n",
    "\n",
    "istenen_öğrenci = input(\"notunu öğrenmek istediğiniz isimi yazin.\").lower()    # Kullanıcıdan bir isim alıyoruz ve küçük harfe çeviriyoruz.\n",
    "\n",
    "if istenen_öğrenci in öğrenci_notlari :                                        # Eğer girilen isim öğrenci_notlari sözlüğünde varsa;\n",
    "    print(f\"{istenen_öğrenci} notu : {öğrenci_notlari[istenen_öğrenci]}\")      # Öğrencinin notunu yazdırıyoruz.\n",
    "\n",
    "else:                                                            # Eğer isim sözlükte yoksa;\n",
    "    print(f\"{istenen_öğrenci} adlı öğrenci bulunamadı.\")         # Öğrenci bulunamadığını belirtiyoruz."
   ]
  }
 ],
 "metadata": {
  "kernelspec": {
   "display_name": "Python 3",
   "language": "python",
   "name": "python3"
  },
  "language_info": {
   "codemirror_mode": {
    "name": "ipython",
    "version": 3
   },
   "file_extension": ".py",
   "mimetype": "text/x-python",
   "name": "python",
   "nbconvert_exporter": "python",
   "pygments_lexer": "ipython3",
   "version": "3.12.6"
  }
 },
 "nbformat": 4,
 "nbformat_minor": 2
}
