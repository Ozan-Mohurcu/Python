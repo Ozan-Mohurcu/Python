{
 "cells": [
  {
   "cell_type": "markdown",
   "metadata": {},
   "source": [
    "#### Denizlerin Sıcaklık Tahmini\n",
    "#### Soru:\n",
    "- Bir deniz listesi oluşturun.\n",
    "- denizler = ['Akdeniz', 'Ege Denizi', 'Karadeniz', 'Marmara Denizi', 'Adriyatik Denizi']\n",
    "- durumlar = ['Durgun', 'Dalgalı', 'Fırtınalı']\n",
    "-  Her deniz için rastgele bir sıcaklık değeri (10°C ile 30°C arasında) ve durumu (durgun, dalgalı, fırtınalı) seçin.\n",
    "-  Sıcaklıkları ve denizin durumunu bir sözlükte saklayın. Sıcaklık değerini 10 karakter genişliğinde sola yaslayarak yazdırın.\n",
    "-  {akdeniz = {sicaklik = 25, durum = durgun},karadeniz = {}}"
   ]
  },
  {
   "cell_type": "code",
   "execution_count": 1,
   "metadata": {},
   "outputs": [
    {
     "name": "stdout",
     "output_type": "stream",
     "text": [
      "Deniz ismi: Akdeniz             , sicakligi:    15, durumu:       Dalgalı       \n",
      "Deniz ismi: Ege Denizi          , sicakligi:    27, durumu:       Dalgalı       \n",
      "Deniz ismi: Karadeniz           , sicakligi:    20, durumu:       Dalgalı       \n",
      "Deniz ismi: Marmara Denizi      , sicakligi:    19, durumu:      Fırtınalı      \n",
      "Deniz ismi: Adriyatik Denizi    , sicakligi:    21, durumu:      Fırtınalı      \n"
     ]
    }
   ],
   "source": [
    "import random\n",
    "sea_list = ['Akdeniz', 'Ege Denizi', 'Karadeniz', 'Marmara Denizi', 'Adriyatik Denizi']\n",
    "forecast = ['Durgun', 'Dalgalı', 'Fırtınalı']\n",
    "\n",
    "sea_dict = {} #  dict\n",
    "\n",
    "for sea in sea_list:\n",
    "\n",
    "    sea_dict[sea] = {'sicaklik': random.randint(10,30), 'durum' : random.choice(forecast) } #nested oldugu icin\n",
    "\n",
    "sea_dict    \n",
    "\n",
    "# print(sea_dict.items())\n",
    "\n",
    "for sea, bilgi in sea_dict.items():\n",
    "\n",
    "    print(f\"Deniz ismi: {sea:<20}, sicakligi: {bilgi['sicaklik']:>5}, durumu: {bilgi['durum']:^20}\")"
   ]
  },
  {
   "cell_type": "markdown",
   "metadata": {},
   "source": [
    "-----------------------------------------------------------------------------------------------------------------------"
   ]
  },
  {
   "cell_type": "markdown",
   "metadata": {},
   "source": [
    "- sayilari kullanicidan al input ile ,\n",
    "- map ve lambda ile hepsini integera cevir,\n",
    "- girilen kenar sayisina gore seklin kacgen oldugunu tespit edip cevresini verin.\n",
    "- fonksiyon uretilecek, kwargs\n",
    "- sonrasindada input ->\n",
    "- 5,6,4,3 -> kenar uzunluklari ->4 kenar varsa dortgen\n",
    "- 3,4,5 -> 3 kenar varsa -> ucgen\n",
    "-  yedigen e kadar uretilebilir\n",
    "- kenarlari kullanicidan aldiktan sonra seklin cevresini hesaplamalisiniz.\n",
    "- kacgen, cevre uzunlugu nedir\n",
    "- ucgenin cevresi 13 cmdir"
   ]
  },
  {
   "cell_type": "code",
   "execution_count": 3,
   "metadata": {},
   "outputs": [
    {
     "name": "stdout",
     "output_type": "stream",
     "text": [
      "Girdiğiniz sayi [1, 5, 5, 4], 4 kenarli bir dörtgen ve kenar uzunluğu 15'dir.\n"
     ]
    }
   ],
   "source": [
    "def girdi_hesaplama(**kwargs):\n",
    "    if 'kenarlar' in kwargs:\n",
    "        return kwargs['kenarlar']\n",
    "    else:\n",
    "        return []\n",
    "\n",
    "girdi = input(\"lütfen en az 3 en cok 7 sayi giriniz, Çikiş için 'e' tusuna basin \").lower()\n",
    "\n",
    "if girdi == 'e':\n",
    "    print(\"Çikiş yapiliyor.\")\n",
    "\n",
    "else:\n",
    "    sayilar = list(map(lambda x: int(x.strip()), girdi.split(',')))\n",
    "\n",
    "    kenarlar = girdi_hesaplama(kenarlar=sayilar)\n",
    "\n",
    "    sayi_adedi = len(kenarlar)\n",
    "\n",
    "    if sayi_adedi == 3:\n",
    "        ucgen_cevre_uzunlugu = sum(kenarlar)\n",
    "        print(f\"girdiğiniz sayi {kenarlar}, 3 kenarli bir üçgen ve üçgenin kenar uzunluğu {ucgen_cevre_uzunlugu}'dur.\" )\n",
    "    \n",
    "    elif sayi_adedi == 4 :\n",
    "        dortgen_kenar = sum(kenarlar)\n",
    "        print(f\"Girdiğiniz sayi {kenarlar}, 4 kenarli bir dörtgen ve kenar uzunluğu {dortgen_kenar}'dir.\")\n",
    "    elif sayi_adedi == 5 :\n",
    "        besgen_kenar = sum(kenarlar)\n",
    "        print(f\"Girdiğiniz sayi {kenarlar}, 5 kenarli bir beşgen ve kenar uzunluğu {besgen_kenar}'dir.\")\n",
    "    elif sayi_adedi == 6 :\n",
    "        altigen_kenar = sum(kenarlar)\n",
    "        print(f\"Girdiğiniz sayi {kenarlar}, 6 kenarli bir altigen ve kenar uzunluğu {altigen_kenar}'dir.\")\n",
    "    elif sayi_adedi == 7 :\n",
    "        yedigen_kenar = sum(kenarlar)\n",
    "        print(f\"Girdiğiniz sayi {kenarlar}, 7 kenarli bir yedigen ve kenar uzunluğu {yedigen_kenar}'dir.\")\n",
    "    else :\n",
    "        print('En az 3 sayi giriniz.')"
   ]
  }
 ],
 "metadata": {
  "kernelspec": {
   "display_name": "Python 3",
   "language": "python",
   "name": "python3"
  },
  "language_info": {
   "codemirror_mode": {
    "name": "ipython",
    "version": 3
   },
   "file_extension": ".py",
   "mimetype": "text/x-python",
   "name": "python",
   "nbconvert_exporter": "python",
   "pygments_lexer": "ipython3",
   "version": "3.12.6"
  }
 },
 "nbformat": 4,
 "nbformat_minor": 2
}
