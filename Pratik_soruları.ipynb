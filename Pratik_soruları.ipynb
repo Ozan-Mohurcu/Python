{
 "cells": [
  {
   "cell_type": "markdown",
   "metadata": {},
   "source": [
    "### <p style=\"color:red\">**1. Metin Mesajı Analizi**</p>\n",
    "\n",
    "Sorun Bildirimi: Bir metin mesajı analizi uygulaması oluşturun. Kullanıcı, bir metin mesajını giriş olarak verecek ve uygulamanın mesajdaki kelimelerin sayısını, cümle sayısını ve karakter sayısını belirlemesini sağlamalıdır.\n",
    "\n",
    "Görev: Kullanıcı tarafından sağlanan metin mesajını analiz ederek aşağıdaki bilgileri sağlayın:\n",
    "\n",
    "    Toplam kelime sayısı\n",
    "    Toplam cümle sayısı\n",
    "    Toplam karakter sayısı\n",
    "\n",
    "Bonus: Kullanıcının sağladığı metin mesajını analiz ederken, aynı zamanda en sık kullanılan kelimeleri veya karakterleri belirleyin ve kullanıcıya raporlayın."
   ]
  },
  {
   "cell_type": "code",
   "execution_count": null,
   "metadata": {},
   "outputs": [
    {
     "name": "stdout",
     "output_type": "stream",
     "text": [
      "mesajiniz : ['merhaba ben ozan. size nasıl yardımcı olabilirim?']\n",
      "Toplam kelime sayisi : {7}\n",
      "toplam cümle sayisi :, {2}\n",
      "karakter sayisi : {49}\n"
     ]
    }
   ],
   "source": [
    "mesaj = input('lütfen mesajinizi giriniz')                                # Kullanıcıdan bir mesaj girmesini isteyen satır.\n",
    "\n",
    "kelime_sayisi = len(mesaj.split())                                        # split() metodu, mesajı boşluklardan ayırır ve kelimeleri bir listeye çevirir.\n",
    "\n",
    "\n",
    "\n",
    "cümle_sayisi = mesaj.count(\".\") + mesaj.count(\"!\") + mesaj.count(\"?\")     # Mesajdaki cümle sayısını hesaplayan satır.\n",
    "                                                                          # Cümle sayısını, '.', '!' ve '?' karakterlerinin sayısını bulup toplarız.\n",
    "\n",
    "karakter = len(mesaj)                                                     # len() fonksiyonu, mesajdaki tüm karakterleri sayar.\n",
    "\n",
    "\n",
    "print(\"mesajiniz :\", [mesaj])                                             # Mesajın kendisini ekrana yazdırır.\n",
    "\n",
    "print('Toplam kelime sayisi :',{kelime_sayisi})                           # Toplam kelime sayısını ekrana yazdırır.\n",
    "\n",
    "print('toplam cümle sayisi :,' ,{cümle_sayisi})                           # Toplam cümle sayısını ekrana yazdırır.\n",
    "\n",
    "print('karakter sayisi :', {karakter})                                    # Toplam karakter sayısını ekrana yazdırır."
   ]
  },
  {
   "cell_type": "markdown",
   "metadata": {},
   "source": [
    "### <p style = \"color:red\">**2. Palindrom Sorgulayıcı**</p>\n",
    "\n",
    "Sorun Bildirimi: Bir palindrom sorgulayıcı uygulaması oluşturun. Kullanıcı, bir kelime veya cümle girişi yapacak ve uygulamanın bu girişin bir palindrom olup olmadığını kontrol etmesini sağlamalıdır.\n",
    "\n",
    "Görev: Kullanıcının girişini alarak, uygulamanın bunun bir palindrom olup olmadığını belirlemesini sağlayın. Bir palindrom, soldan sağa veya sağdan sola okunduğunda aynı olan bir kelime veya cümledir.\n",
    "\n",
    "Bonus: Kullanıcıya, girişin bir palindrom olup olmadığını belirleme sürecini görselleştiren bir arayüz sağlayın, örneğin girişin ters çevrilmiş halini görüntüleyerek."
   ]
  },
  {
   "cell_type": "code",
   "execution_count": null,
   "metadata": {},
   "outputs": [
    {
     "name": "stdout",
     "output_type": "stream",
     "text": [
      "'Ey edip adanaDa piDe Ye' ifadesi bir palindromdur.\n"
     ]
    }
   ],
   "source": [
    "giris = input(\"Lütfen bir kelime veya cümle giriniz: \")     # Kullanıcıdan bir kelime veya cümle girmesini isteyen satır.\n",
    "\n",
    "# Girilen kelimenin ya da cümlenin tüm harflerini küçük hale getirir ve boşlukları kaldırır.\n",
    "\n",
    "temiz_giris = giris.lower().replace(\" \", \"\")      # lower() küçük harfe dönüştürür, replace(\" \", \"\") boşlukları kaldırır.\n",
    "\n",
    "# Temizlenmiş (küçük harfe dönüştürülmüş ve boşlukları kaldırılmış) metnin tersini alır.\n",
    "\n",
    "ters_giris = temiz_giris[::-1]           # [:] dilimleme ile ters çevrilir.\n",
    "\n",
    "# Temizlenmiş metnin tersini kontrol ederek, palindrom olup olmadığını belirler.\n",
    "\n",
    "if temiz_giris == ters_giris:                       # Eğer orijinal ve ters hali aynıysa;\n",
    "\n",
    "    print(f\"'{giris}' ifadesi bir palindromdur.\")     # Palindrom ise bu mesajı yazdırır.\n",
    "\n",
    "else:\n",
    "\n",
    "    print(f\"'{giris}' ifadesi bir palindrom değildir.\")      # Palindrom değilse bu mesajı yazdırır."
   ]
  },
  {
   "cell_type": "markdown",
   "metadata": {},
   "source": [
    "### <p style = \"color:Red\">**3. Karakter Dizisi Dönüşümü**</p>\n",
    "\n",
    "Sorun Bildirimi: Bir karakter dizisini farklı biçimlerde dönüştüren bir program yazın. Kullanıcı, bir giriş karakter dizisi ve dönüşüm türü seçerek dönüştürülen karakter dizisini görmelidir.\n",
    "\n",
    "Görev: Kullanıcının sağladığı giriş karakter dizisini, kullanıcının seçtiği dönüşüm türüne göre dönüştürün. Dönüşüm türleri arasında büyük harfe dönüştürme, küçük harfe dönüştürme, baş harfleri büyük yapma ve ters çevirme gibi seçenekler bulunabilir.\n",
    "\n",
    "Bonus: Kullanıcının sağladığı karakter dizisini daha karmaşık biçi**mlerde dönüştürme seçenekleri ekleyin, örneğin metni tersine çevirme veya harfleri biraz değiştirme."
   ]
  },
  {
   "cell_type": "code",
   "execution_count": null,
   "metadata": {},
   "outputs": [
    {
     "name": "stdout",
     "output_type": "stream",
     "text": [
      "Merhaba Ben Ozan Nasılsınız?\n"
     ]
    }
   ],
   "source": [
    "cümel1 = input(\"Lütfen bir cümle veya kelime giriniz: \")                           # Kullanıcıdan bir cümle veya kelime alır.\n",
    "\n",
    "istenilen = input('''Büyük harfe dönüştürme için '1', tamamen küçük harf için '2' \n",
    "title için '3' sadece ilk harfi büyük harfe dönüştürme için '4' giriniz''')       # Kullanıcıya hangi harf dönüşümünü yapmak istediğini sorar.\n",
    "\n",
    "# Eğer kullanıcı '1' girerse, metnin tamamını büyük harfe dönüştürür.\n",
    "\n",
    "if istenilen == \"1\":           # Eğer kullanıcı '1' girerse, metnin tamamını büyük harfe dönüştürür.\n",
    "\n",
    "    print(cümel1.upper())      # upper() metodu, tüm harfleri büyük yapar.\n",
    "\n",
    "elif istenilen == \"2\":         # Eğer kullanıcı '2' girerse, metnin tamamını küçük harfe dönüştürür.\n",
    "\n",
    "    print(cümel1.lower())      # lower() metodu, tüm harfleri küçük yapar.\n",
    "\n",
    "elif istenilen == \"3\":         # Eğer kullanıcı '3' girerse, her kelimenin ilk harfini büyük yapar.\n",
    "\n",
    "    print(cümel1.title())      # title() metodu, her kelimenin ilk harfini büyük yapar.\n",
    "\n",
    "elif istenilen == \"4\":         # Eğer kullanıcı '4' girerse, sadece ilk harfi büyük yapar.\n",
    "\n",
    "    print(cümel1.capitalize())  # capitalize() metodu, yalnızca ilk harfi büyük yapar.\n",
    "\n",
    "else:                           # Eğer kullanıcı başka bir seçenek girerse, bu durumda uyarı mesajı gösterir.\n",
    "\n",
    "    print(\"Lütfen sizden istenileni girin.\")  # Kullanıcı geçerli bir seçenek girmezse bu mesajı gösterir."
   ]
  },
  {
   "cell_type": "markdown",
   "metadata": {},
   "source": [
    "### <p style = \"color:red\">**4. Email Doğrulama**</p>\n",
    "\n",
    "Sorun Bildirimi: Bir kullanıcının girdiği e-posta adresinin doğruluğunu kontrol eden bir program yazın.\n",
    "\n",
    "Görev: Kullanıcıdan bir e-posta adresi alın. Ardından, bu e-posta adresinin geçerli bir adres olup olmadığını kontrol edin. Geçerli bir e-posta adresi, genellikle bir kullanıcı adı, \"@\" işareti, alan adı ve bir üst düzey alan adından oluşur. Örneğin, \"ornek@ornek.com\" gibi. Programınız, kullanıcıya e-posta adresinin geçerli olup olmadığını bildirmelidir.\n",
    "\n",
    "Bonus: E-posta adresinin yanı sıra, kullanıcının girdiği metnin içindeki diğer e-posta adreslerini de bulup listelemeyi deneyin."
   ]
  },
  {
   "cell_type": "code",
   "execution_count": null,
   "metadata": {},
   "outputs": [
    {
     "name": "stdout",
     "output_type": "stream",
     "text": [
      "eposta adresi geçerlidir.\n"
     ]
    }
   ],
   "source": [
    "eposta = input(\"Lütfen eposta adresinizi giriniz.\")   # Kullanıcıdan bir e-posta adresi alır.\n",
    "\n",
    "kontrol = eposta.index(\"@\")        # E-posta adresinde '@' karakterinin bulunduğu yerin indeksini alır.\n",
    "\n",
    "kontroll = eposta.index(\".\")       # E-posta adresinde '.' karakterinin bulunduğu yerin indeksini alır.\n",
    "\n",
    "if kontrol and kontroll >= 0:      # '@' ve '.' karakterlerinin her ikisi de e-posta adresinde bulunuyorsa;\n",
    "    \n",
    "    print(\"eposta adresi geçerlidir.\")   # E-posta adresi geçerli olduğunda bu mesajı yazdırır.\n",
    "\n",
    "else:           \n",
    "\n",
    "    print(\"geçerli bir eposta adresi giriniz\")     # E-posta adresi geçerli değilse bu mesajı yazdırır."
   ]
  },
  {
   "cell_type": "markdown",
   "metadata": {},
   "source": [
    "<p style = \"color:red\">**5. Güçlü Şifre Oluşturucu**</p>\n",
    "\n",
    "* Karmaşık bir şifre oluşturmak için kullanıcı girdisi alan bir Python programı yazın. \n",
    "* Program, kullanıcıdan şifreye dahil etmek istedikleri ünlüler, ünsüzler, sayılar, noktalama işaretleri ve sayısal olmayan karakterler gibi karakter türlerini belirtmesini istemelidir. \n",
    "* Kullanıcının girişine bağlı olarak, 8, 9, 10, 11 veya 12 karakterden oluşan rastgele bir şifre oluşturun. \n",
    "* Lütfen oluşturulan şifrenin kullanıcının belirlediği kriterleri karşıladığından emin olun."
   ]
  },
  {
   "cell_type": "code",
   "execution_count": null,
   "metadata": {},
   "outputs": [
    {
     "name": "stdout",
     "output_type": "stream",
     "text": [
      "Karışık bir şifre oluşturma programına hoş geldiniz!\n",
      "Oluşturulan şifre: 'n4/9={qF'\n"
     ]
    }
   ],
   "source": [
    "import random\n",
    "\n",
    "print(\"Karışık bir şifre oluşturma programına hoş geldiniz!\")\n",
    "\n",
    "# Kullanıcıdan karakter türlerini soruyoruz\n",
    "sesli = input(\"Ünlü harfler şifreye dahil edilsin mi (e/h):\").strip().lower() == \"e\"\n",
    "sessiz = input(\"Ünsüz harfler şifreye dahil edilsin mi (e/h):\").strip().lower() == \"e\"\n",
    "sayi = input(\"Rakamlar şifreye dahil edilsin mi (e/h)?:\").strip().lower() == \"e\"\n",
    "noktalama = input(\"Noktalama işaretleri şifreye dahil edilsin mi (e/h)?:\").strip().lower() == \"e\"\n",
    "non_sayi = input(\"Sayısal olmayan karakterler şifreye dahil edilsin mi (e/h)?:\").strip().lower() == \"e\"\n",
    "\n",
    "# Kullanıcıdan şifrenin uzunluğunu seçmesini istiyoruz.\n",
    "uzunluk = int(input(\"Şifrenin uzunluğunu seçin (8, 9, 10, 11, 12):\"))\n",
    "\n",
    "# Şifremizin karakter havuzunu başlatıyoruz\n",
    "sifre_havuzu = \"\"\n",
    "\n",
    "# Kullanıcı seçimine göre karakter havuzuna ilgili karakterleri ekliyoruz.\n",
    "if sesli:\n",
    "    sifre_havuzu += \"aeiouAEIOU\"  # Ünlü harfleri ekliyoruz.\n",
    "if sessiz:\n",
    "    sifre_havuzu += \"bcdfghjklmnpqrstvwxyzBCDFGHJKLMNPQRSTVWXYZ\"  # Ünsüz harfleri ekliyoruz.\n",
    "if sayi:\n",
    "    sifre_havuzu += \"0123456789\"  # Sayıları ekliyoruz.\n",
    "if noktalama:\n",
    "    sifre_havuzu += \".,:;!()?-'\\\"\"  # Noktalama işaretlerini ekliyoruz.\n",
    "if non_sayi:\n",
    "    sifre_havuzu += \"#$%&*+-/<=>@[]^_`{|}~\"  # Sayısal olmayan karakterleri ekliyoruz.\n",
    "\n",
    "# Eğer hiç karakter türü seçilmediyse, kullanıcıyı uyarıyoruz.\n",
    "if not sifre_havuzu:\n",
    "    print(\"Hiçbir karakter türü seçilmedi. Lütfen en az bir karakter türü seçiniz.\")\n",
    "    exit()  # Karakter türü seçilmezse, program sonlandırılır.\n",
    "\n",
    "# Şifreyi oluşturmak için başlangıç string'ini boş bırakıyoruz.\n",
    "sifre = \"\"\n",
    "\n",
    "# Kullanıcı seçimine göre şifremize rastgele karakterler ekliyoruz.\n",
    "if sesli:\n",
    "    sifre += random.choice(\"aeiouAEIOU\")  # Ünlü harflerden rastgele bir karakter ekliyoruz.\n",
    "\n",
    "if sessiz:\n",
    "    sifre += random.choice(\"bcdfghjklmnpqrstvwxyzBCDFGHJKLMNPQRSTVWXYZ\")  # Ünsüz harflerden rastgele bir karakter ekliyoruz.\n",
    "\n",
    "if sayi:\n",
    "    sifre += random.choice(\"0123456789\")  # Sayılardan rastgele bir karakter ekliyoruz.\n",
    "\n",
    "if noktalama:\n",
    "    sifre += random.choice(\".,:;!()?-'\\\"\")  # Noktalama işaretlerinden rastgele bir karakter ekliyoruz.\n",
    "\n",
    "if non_sayi:\n",
    "    sifre += random.choice(\"#$%&*+-/<=>@[]^_`{|}~\")  # Sayısal olmayan karakterlerden rastgele bir karakter ekliyoruz.\n",
    "\n",
    "# Şifreyi istenen uzunlukta tamamlıyoruz.\n",
    "while len(sifre) < uzunluk:\n",
    "    sifre += random.choice(sifre_havuzu)  # Eksik olan karakter sayısı kadar şifreye rastgele karakter ekliyoruz.\n",
    "\n",
    "print(f\"Oluşturulan şifre: '{sifre}'\")   # Oluşturulan şifreyi ekrana yazdırıyoruz.\n"
   ]
  },
  {
   "cell_type": "markdown",
   "metadata": {},
   "source": [
    "<p style = \"color:red\">6. Sınav/Ödev Takip Uygulaması:</p>\n",
    "\n",
    "- Öğrencilerin sınav tarihlerini, ödevlerini ve projelerini listelemesine ve takip etmesine olanak tanıyan bir uygulama. Öğrenciler, sınavları ve ödevleri listeye ekleyebilir, son teslim tarihlerini belirleyebilir ve tamamlandıkça işaretleyebilir."
   ]
  },
  {
   "cell_type": "code",
   "execution_count": 4,
   "metadata": {},
   "outputs": [
    {
     "name": "stdout",
     "output_type": "stream",
     "text": [
      "Sınav ve ödev Listesi:\n",
      "1. Görev: Matematik Sınavı, Son Teslim Tarihi: 2024-10-15, Tamamlandı: False\n",
      "2. Görev: Fizik Ödevi, Son Teslim Tarihi: 2024-10-25, Tamamlandı: False\n",
      "3. Görev: Kimya Projesi, Son Teslim Tarihi: 2024-10-20, Tamamlandı: False\n",
      "Güncellenmiş Sınav ve ödev Listesi:\n",
      "1. Görev: Matematik Sınavı, Son Teslim Tarihi: 2024-10-15, Tamamlandı: False\n",
      "2. Görev: Fizik Ödevi, Son Teslim Tarihi: 2024-10-25, Tamamlandı: True\n",
      "3. Görev: Kimya Projesi, Son Teslim Tarihi: 2024-10-20, Tamamlandı: False\n",
      "\n",
      "Arama Sonucu:\n",
      "Görev: Kimya Projesi, Son Teslim Tarihi: 2024-10-20, Tamamlandı: False\n"
     ]
    }
   ],
   "source": [
    "# Boş bir liste oluşturuyoruz\n",
    "task = []\n",
    "\n",
    "# Listeye üç görev ekliyoruz. Her görev bir liste olarak, başlık, tarih ve tamamlanıp tamamlanmadığı bilgilerini içeriyor.\n",
    "task.append([\"Matematik Sınavı\", \"2024-10-15\", False])\n",
    "task.append([\"Fizik Ödevi\", \"2024-10-25\", False])\n",
    "task.append([\"Kimya Projesi\", \"2024-10-20\", False])\n",
    "\n",
    "# Görevlerin listesini ekrana yazdırıyoruz.\n",
    "print(\"Sınav ve ödev Listesi:\")\n",
    "print(f\"1. Görev: {task[0][0]}, Son Teslim Tarihi: {task[0][1]}, Tamamlandı: {task[0][2]}\")\n",
    "print(f\"2. Görev: {task[1][0]}, Son Teslim Tarihi: {task[1][1]}, Tamamlandı: {task[1][2]}\")\n",
    "print(f\"3. Görev: {task[2][0]}, Son Teslim Tarihi: {task[2][1]}, Tamamlandı: {task[2][2]}\")\n",
    "\n",
    "# Fizik ödevinin tamamlandığını belirtiyoruz (task[1][2] = True).\n",
    "task[1][2] = True\n",
    "\n",
    "# Güncellenmiş görev listesini ekrana yazdırıyoruz.\n",
    "print(\"Güncellenmiş Sınav ve ödev Listesi:\")\n",
    "print(f\"1. Görev: {task[0][0]}, Son Teslim Tarihi: {task[0][1]}, Tamamlandı: {task[0][2]}\")\n",
    "print(f\"2. Görev: {task[1][0]}, Son Teslim Tarihi: {task[1][1]}, Tamamlandı: {task[1][2]}\")\n",
    "print(f\"3. Görev: {task[2][0]}, Son Teslim Tarihi: {task[2][1]}, Tamamlandı: {task[2][2]}\")\n",
    "\n",
    "# 'Kimya Projesi' görevini arıyoruz\n",
    "search_task = \"Kimya Projesi\"\n",
    "found_task = None\n",
    "\n",
    "# Görevler arasında 'Kimya Projesi'ni arıyoruz. \n",
    "# Eğer bulursak, ilgili görev bilgisini 'found_task' değişkenine atıyoruz.\n",
    "if task[0][0] == search_task:\n",
    "    found_task = task[0]\n",
    "elif task[1][0] == search_task:\n",
    "    found_task = task[1]\n",
    "elif task[2][0] == search_task:\n",
    "    found_task = task[2]\n",
    "    \n",
    "# Eğer aradığımız görev bulunduysa, ekrana yazdırıyoruz.\n",
    "if found_task:\n",
    "    print(\"\\nArama Sonucu:\")\n",
    "    print(f\"Görev: {found_task[0]}, Son Teslim Tarihi: {found_task[1]}, Tamamlandı: {found_task[2]}\")\n",
    "else:\n",
    "    # Eğer aradığımız görev bulunamazsa, kullanıcıyı uyarıyoruz.\n",
    "    print(\"\\nAranan görev bulunamadı\")\n"
   ]
  }
 ],
 "metadata": {
  "kernelspec": {
   "display_name": "Python 3",
   "language": "python",
   "name": "python3"
  },
  "language_info": {
   "codemirror_mode": {
    "name": "ipython",
    "version": 3
   },
   "file_extension": ".py",
   "mimetype": "text/x-python",
   "name": "python",
   "nbconvert_exporter": "python",
   "pygments_lexer": "ipython3",
   "version": "3.12.6"
  }
 },
 "nbformat": 4,
 "nbformat_minor": 2
}
