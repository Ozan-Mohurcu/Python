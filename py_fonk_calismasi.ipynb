{
 "cells": [
  {
   "cell_type": "markdown",
   "metadata": {},
   "source": [
    "#### <span style=\"color:red\">Python Soruları</span>\n"
   ]
  },
  {
   "cell_type": "markdown",
   "metadata": {},
   "source": [
    "#### <p style=\"color:red\">1. Python nedir? Teknoloji dünyasında Python'un bazı popüler uygulamalarını örneklendirin</p>\n",
    "\n"
   ]
  },
  {
   "cell_type": "markdown",
   "metadata": {},
   "source": [
    "* Python, yaygın olarak kullanılan genel amaçlı, üst düzey bir programlama dilidir.\n",
    "\n",
    "* 1991 yılında Guido van Rossum tarafından ilk defa ortaya çıkarılmış ve Python Yazılım Vakfı tarafından daha da geliştirilmiştir.\n",
    "\n",
    "* Python 1.0 sürümüne Ocak 1994'te ulaşmıştır. 2.0 sürümü 16 Ekim 2000'de yayınlanmıştır. 3 Aralık 2008 tarihinden itibaren 3.x serisi yayınlanmaya başlamıştır; ancak 3.x serisi 2.x serisiyle uyumlu değildir.\n",
    "\n",
    "* Kod okunabilirliğine vurgu yapılarak tasarlanmıştır ve sözdizimi programcıların kavramlarını daha az satır kodla ifade etmelerine olanak tanır.\n",
    "\n",
    "* Windows, Linux, UNIX ve Macintosh'ta eşit derecede iyi çalışan nesne yönelimli üst düzey bir dildir.\n",
    "\n",
    "Teknoloji dünyasında Python’un bazı popüler uygulamaları şunlardır:\n",
    "\n",
    "- **Web Geliştirme:** Django ve Flask gibi popüler web çerçeveleri sayesinde Python, web uygulamaları geliştirmede yaygın olarak kullanılır. Örneğin, YouTube ve Instagram gibi büyük platformlar Python kullanır.\n",
    "\n",
    "- **Veri Bilimi ve Makine Öğrenimi:** Pandas, NumPy, SciPy ve TensorFlow gibi kütüphanelerle Python, veri analizi ve makine öğrenimi projelerinde sıkça kullanılır.\n",
    "\n",
    "- **Oyun Geliştirme:** Pygame gibi kütüphanelerle Python, basit oyunlar geliştirmek için de kullanılabilir.\n",
    "\n",
    "- **Görüntü İşleme:** OpenCV gibi kütüphanelerle Python, görüntü işleme ve computer vision projelerinde kullanılır.\n",
    "\n",
    "- **Otomasyon:** Python, rutin görevleri otomatikleştirmek için de yaygın olarak kullanılır."
   ]
  },
  {
   "cell_type": "markdown",
   "metadata": {},
   "source": [
    "### <p style=\"color:red\">**2. Sığ kopya (shallow copy) ile derin kopya (deep copy) arasındaki fark nedir?**>/p>"
   ]
  },
  {
   "cell_type": "markdown",
   "metadata": {},
   "source": [
    "* Python’da, bir nesneyi kopyalamak için “=” operatörü kullanılır. Ancak, bu referans tipli bir atamadır. Başka bir değişle her iki değişkenin gösterdiği adresler aynıdır. Örneğin, listeye yeni elemanlar eklediğimizde her iki liste etkilenir. \n",
    "\n",
    "* Bazen orijinal değerleri kaybetmeden değişkeninizin bir kopyasına ihtiyaç duyabilirsiniz ve tabii ki yapılan bir değişiklikle orijinal verinin bozulmasını istemezsiniz. Böyle durumlarda kopyalama kullanılır.\n",
    "\n",
    "* Sığ kopyalama işlemi değişkenin iç değerlerini referans bazlı taşır. Değişkenin kendisi farklı bir adreste yer alır.\n",
    "\n",
    "* Sığ ve derin kopyalama arasındaki fark sadece bileşik nesneler için geçerlidir (listeler veya sınıflar gibi).\n",
    "\n",
    "* Bir liste alt listeler içerdiği andan itibaren yeni bir zorluk karşımıza çıkıyor: sığ kopya ile alt listeler kopyalanmaz, ancak sadece alt listelere göndermeler işlenir. Derin kopya ile bu sorun çözülür.\n",
    "\n",
    "* Sığ bir kopya daha hızlı program yürütmeye sahipken, derin bir kopya bunu yavaşlatır.\n",
    "\n",
    "https://veridefteri.com/posts/2018/03/19/python-programlamaya-giris-18-python-referans-modeli-sig-ve-derin-kopyalama/index.html"
   ]
  },
  {
   "cell_type": "code",
   "execution_count": 1,
   "metadata": {},
   "outputs": [
    {
     "name": "stdout",
     "output_type": "stream",
     "text": [
      "2588811491200 2588811491200 2588811490048 2588811489600\n"
     ]
    }
   ],
   "source": [
    "# Assign etme ve kopyalama\n",
    "a = [1,2,3]        # 'a' adında bir liste oluşturuluyor ve içine [1, 2, 3] değerleri atanıyor.\n",
    "b = a              # 'b' değişkenine 'a' değişkeni atanıyor. Bu durumda 'b', 'a' ile aynı listeyi referans eder.\n",
    "\n",
    "import copy        \n",
    "\n",
    "c = copy.copy(a)                     # 'a' listesinin \"shallow copy\" (yüzeysel kopya) oluşturuluyor ve 'c'ye atanıyor.\n",
    "\n",
    "d = copy.deepcopy(a)                 # 'a' listesinin \"deep copy\" (derin kopya) oluşturuluyor ve 'd'ye atanıyor.\n",
    "\n",
    "print(id(a), id(b), id(c), id(d))    #  'a', 'b', 'c' ve 'd' değişkenlerinin bellek adreslerini yazdırır."
   ]
  },
  {
   "cell_type": "markdown",
   "metadata": {},
   "source": [
    "---"
   ]
  },
  {
   "cell_type": "code",
   "execution_count": null,
   "metadata": {},
   "outputs": [],
   "source": [
    "a = [1,2,3,[10,20,30]]             # 'a' listesi, içinde başka bir liste de barındıran bir liste.\n",
    "\n",
    "shallow = a.copy()                 # Shallow copy (yüzeysel kopya)\n",
    "\n",
    "deep = copy.deepcopy(a)            # Shallow copy (yüzeysel kopya)"
   ]
  },
  {
   "cell_type": "code",
   "execution_count": null,
   "metadata": {},
   "outputs": [
    {
     "name": "stdout",
     "output_type": "stream",
     "text": [
      "[1, 2, 3, [10, 20, 30]]\n",
      "[1, 2, 3, [10, 20, 30], 100]\n",
      "[1, 2, 3, [10, 20, 30], 200]\n"
     ]
    }
   ],
   "source": [
    "shallow.append(100)     # 'shallow' listesine 100 ekleniyor.\n",
    "\n",
    "deep.append(200)        # 'deep' listesine 200 ekleniyor.\n",
    "\n",
    "print(a)                # 'a' listesinin son durumu yazdırılıyor.\n",
    "\n",
    "print(shallow)          # 'shallow' listesinin son durumu yazdırılıyor.\n",
    "\n",
    "print(deep)             # 'deep' listesinin son durumu yazdırılıyor."
   ]
  },
  {
   "cell_type": "code",
   "execution_count": null,
   "metadata": {},
   "outputs": [
    {
     "name": "stdout",
     "output_type": "stream",
     "text": [
      "[1, 2, 3, ['güncelle', 20, 30]]\n",
      "[1, 2, 3, ['güncelle', 20, 30], 100]\n",
      "[1, 2, 3, [10, 'update', 30], 200]\n"
     ]
    }
   ],
   "source": [
    "shallow[3][0] = \"güncelle\"        # 'shallow' listesinin 4. elemanındaki iç listeyi güncelliyoruz.\n",
    "\n",
    "deep[3][1] = \"update\"             # 'deep' listesinin 4. elemanındaki iç listeyi güncelliyoruz.\n",
    "\n",
    "print(a)                          # 'a' listesinin son durumu yazdırılıyor.\n",
    "\n",
    "print(shallow)                    # 'shallow' listesinin son durumu yazdırılıyor.\n",
    "\n",
    "print(deep)                       # 'deep' listesinin son durumu yazdırılıyor."
   ]
  },
  {
   "cell_type": "markdown",
   "metadata": {},
   "source": [
    "### <p style=\"color:red\" >**3. Python'da swapcase() fonksiyonu ne işe yarar?**</p>"
   ]
  },
  {
   "cell_type": "code",
   "execution_count": null,
   "metadata": {},
   "outputs": [
    {
     "name": "stdout",
     "output_type": "stream",
     "text": [
      "oZANmhrc\n"
     ]
    }
   ],
   "source": [
    "string = \"OzanMHRC\"      # Burada, string değişkenine \"OzanMHRC\" değeri atanmış. Bu string, büyük ve küçük harfleri karışık bir şekilde içeriyor.\n",
    "\n",
    "print(string.swapcase())  # string.swapcase() çağrıldığında: \"OzanMHRC\" içindeki her büyük harf küçük harfe ve her küçük harf büyük harfe dönüşecektir:"
   ]
  },
  {
   "cell_type": "code",
   "execution_count": null,
   "metadata": {},
   "outputs": [
    {
     "name": "stdout",
     "output_type": "stream",
     "text": [
      "ozanmhrc\n"
     ]
    }
   ],
   "source": [
    "string_2 = \"OZANMHRC\"       # Burada, string_2 değişkenine \"OZANMHRC\" değeri atanmış. Bu string tamamen büyük harflerle yazılmış bir metin.\n",
    "\n",
    "print(string_2.swapcase()) # swapcase() metodu, bir string'deki büyük harfleri küçük harfe, küçük harfleri büyük harfe dönüştürür."
   ]
  },
  {
   "cell_type": "markdown",
   "metadata": {},
   "source": [
    "### <p style=\"color:red\">**4. Bir listedeki tekrarlı elemanları nasıl silersiniz?**</p>"
   ]
  },
  {
   "cell_type": "code",
   "execution_count": null,
   "metadata": {},
   "outputs": [
    {
     "data": {
      "text/plain": [
       "[1, 4, 5, 6, 8, 12]"
      ]
     },
     "execution_count": 15,
     "metadata": {},
     "output_type": "execute_result"
    }
   ],
   "source": [
    "# Tekrarlı elemanları listeden çıkarmak için set() fonksiyonu kullanılır.\n",
    "\n",
    "demo_list=[5,4,4,6,8,12,12,1,5]              # Orijinal liste\n",
    "\n",
    "unique_list = list(set(demo_list))           # Tekrarlı elemanları çıkaran işlem\n",
    "\n",
    "unique_list                                  # Sonuçları yazdırma\n",
    "\n",
    "\n",
    "# set(demo_list) komutu, demo_list listesini bir set (küme) veri yapısına dönüştürür.\n",
    "# Set veri yapısı, tekrarlı elemanları kabul etmez. Yani, listedeki tekrarlanan öğeler kendi içinden otomatik olarak çıkarılır."
   ]
  },
  {
   "cell_type": "markdown",
   "metadata": {},
   "source": [
    "### <p style = \"color:red\">**5. İki tuple nasıl birleştirilir?**</p>"
   ]
  },
  {
   "cell_type": "code",
   "execution_count": null,
   "metadata": {},
   "outputs": [],
   "source": [
    "tup1=(1,\"a\",True)     # İlk tuple.\n",
    "\n",
    "tup2=(4,5,6)          # İkinci tuple."
   ]
  },
  {
   "cell_type": "code",
   "execution_count": null,
   "metadata": {},
   "outputs": [
    {
     "name": "stdout",
     "output_type": "stream",
     "text": [
      "(1, 'a', True, 4, 5, 6)\n"
     ]
    }
   ],
   "source": [
    "result = tup1 + tup2    # Tuple'ları birleştirme.\n",
    "\n",
    "print(result)           # Sonucu yazdırma."
   ]
  },
  {
   "cell_type": "markdown",
   "metadata": {},
   "source": [
    "### <p style=\"color:red\">**6. Python ile sting bir ifadeyi nasıl küçük harfe çevirirsiniz?**</p>"
   ]
  },
  {
   "cell_type": "code",
   "execution_count": null,
   "metadata": {},
   "outputs": [
    {
     "data": {
      "text/plain": [
       "'merhaba ben ozan'"
      ]
     },
     "execution_count": 14,
     "metadata": {},
     "output_type": "execute_result"
    }
   ],
   "source": [
    "string = \"MERHABA BEN OZAN\"    # Orijinal string.\n",
    "\n",
    "string.lower()                 # string.lower() komutu, string'in tüm harflerini küçük harfe dönüştürür."
   ]
  },
  {
   "cell_type": "code",
   "execution_count": null,
   "metadata": {},
   "outputs": [
    {
     "data": {
      "text/plain": [
       "'Merhaba ben ozan'"
      ]
     },
     "execution_count": 15,
     "metadata": {},
     "output_type": "execute_result"
    }
   ],
   "source": [
    "string3 = string.capitalize()   #  İlk harfi büyük yapma\n",
    "\n",
    "string3                         # Sonucu yazdırma\n",
    "\n",
    "# string.capitalize() komutu, string'in yalnızca ilk harfini büyük yapar ve geri kalan harfleri küçük yapar."
   ]
  },
  {
   "cell_type": "code",
   "execution_count": null,
   "metadata": {},
   "outputs": [
    {
     "data": {
      "text/plain": [
       "'MERHABA BEN OZAN'"
      ]
     },
     "execution_count": 16,
     "metadata": {},
     "output_type": "execute_result"
    }
   ],
   "source": [
    "string3.upper()  # string3.upper() komutu, string'in tüm harflerini büyük yapar."
   ]
  },
  {
   "cell_type": "markdown",
   "metadata": {},
   "source": [
    "### <p style = \"color:Red\">**7. Bir dictionary verisindeki keyleri nasıl listelersiniz?**</p>"
   ]
  },
  {
   "cell_type": "code",
   "execution_count": null,
   "metadata": {},
   "outputs": [
    {
     "data": {
      "text/plain": [
       "dict_keys(['isim', 'yaş', 'şehir'])"
      ]
     },
     "execution_count": 24,
     "metadata": {},
     "output_type": "execute_result"
    }
   ],
   "source": [
    "# my_dict adında bir sözlük (dictionary) oluşturulmuştur. Sözlük, anahtar-değer (key-value) çiftlerinden oluşur.\n",
    "\n",
    "\n",
    "my_dict = {\n",
    "    'isim': 'Ali',\n",
    "    'yaş': 30,\n",
    "    'şehir': 'İstanbul'\n",
    "}                           #oluşturulan dict.\n",
    "\n",
    "my_dict.keys()          # Dict anahtarlarını alma"
   ]
  },
  {
   "cell_type": "code",
   "execution_count": null,
   "metadata": {},
   "outputs": [
    {
     "data": {
      "text/plain": [
       "['isim', 'yaş', 'şehir']"
      ]
     },
     "execution_count": 25,
     "metadata": {},
     "output_type": "execute_result"
    }
   ],
   "source": [
    "list(my_dict.keys())        # Sözlük anahtarlarını listeye dönüştürme"
   ]
  },
  {
   "cell_type": "markdown",
   "metadata": {},
   "source": [
    "### <p style = \"color:Red\"> **8. Python'da bir elementin belirli bir indeksine nasıl eleman yerleştirirsiniz?**</p>"
   ]
  },
  {
   "cell_type": "code",
   "execution_count": null,
   "metadata": {},
   "outputs": [
    {
     "name": "stdout",
     "output_type": "stream",
     "text": [
      "[1, 2, 10, 3, 4, 5]\n"
     ]
    }
   ],
   "source": [
    "liste = [1, 2, 3, 4, 5]      # Orijinal liste\n",
    "\n",
    "liste.insert(2, 10)          # 2. indekse 10 sayısını yerleştiriyoruz\n",
    "\n",
    "print(liste)                 # Listeyi yazdırma\n",
    "\n",
    "\n",
    "# liste.insert(2, 10) komutu, listeye belirli bir konumda (index'te) yeni bir eleman eklemek için kullanılır.\n",
    "\n",
    "# İlk parametre (2): Yeni elemanın eklenmesi gereken index'i belirtir. Yani, bu örnekte, 10 sayısı index 2'ye eklenecek.\n"
   ]
  },
  {
   "cell_type": "markdown",
   "metadata": {},
   "source": [
    "### <p style = \"color:Red\" > **9. Negatif index nedir? Ne için kullanılır?**</p>"
   ]
  },
  {
   "cell_type": "code",
   "execution_count": null,
   "metadata": {},
   "outputs": [
    {
     "name": "stdout",
     "output_type": "stream",
     "text": [
      "50\n",
      "40\n"
     ]
    }
   ],
   "source": [
    "liste = [10, 20, 30, 40, 50]  # Liste tanımlaması.\n",
    "\n",
    "son_eleman = liste[-1]        # -1 negatif indeksi, listenin son elemanına işaret eder.\n",
    "onceki_eleman = liste[-2]     # -2 negatif indeksi, listenin sondan bir önceki elemanına işaret eder.\n",
    "\n",
    "print(son_eleman)             # Son elemanı yazdırma.\n",
    "print(onceki_eleman)          # Önceki elemanı yazdırma.\n"
   ]
  },
  {
   "cell_type": "markdown",
   "metadata": {},
   "source": [
    "### <p style = \"color:Red\">**10. Bir sayıyı nasıl string ifafeye dönüştürürsünüz?**</p>"
   ]
  },
  {
   "cell_type": "code",
   "execution_count": null,
   "metadata": {},
   "outputs": [
    {
     "data": {
      "text/plain": [
       "'123'"
      ]
     },
     "execution_count": 28,
     "metadata": {},
     "output_type": "execute_result"
    }
   ],
   "source": [
    "sayi = 123                       # Tam sayı tanımlaması.\n",
    "\n",
    "string_ifade = str(sayi)         # sayıyı string'e dönüştürme\n",
    "\n",
    "string_ifade                    # String ifadeyi yazdırma"
   ]
  },
  {
   "cell_type": "code",
   "execution_count": null,
   "metadata": {},
   "outputs": [
    {
     "data": {
      "text/plain": [
       "str"
      ]
     },
     "execution_count": 29,
     "metadata": {},
     "output_type": "execute_result"
    }
   ],
   "source": [
    "type(string_ifade)     # string_ifade değişkeninin veri tipini yazdırma"
   ]
  },
  {
   "cell_type": "markdown",
   "metadata": {},
   "source": [
    "---"
   ]
  },
  {
   "cell_type": "code",
   "execution_count": null,
   "metadata": {},
   "outputs": [
    {
     "data": {
      "text/plain": [
       "'10'"
      ]
     },
     "execution_count": 20,
     "metadata": {},
     "output_type": "execute_result"
    }
   ],
   "source": [
    "#F-string metodu (Python 3.6 ve üzeri)\n",
    "\n",
    "sayi = 10                        # Tam sayı tanımlaması\n",
    "\n",
    "string_ifade = f\"{sayi}\"         # f-string kullanarak sayıyı string'e dönüştürme\n",
    "\n",
    "string_ifade                     # string_ifade'yi yazdırma\n",
    "\n",
    "# f-string, Python 3.6 ve sonrasında kullanılabilen bir özelliktir ve bir string içinde değişkenlerin değerlerini kolayca eklemek için kullanılır."
   ]
  },
  {
   "cell_type": "markdown",
   "metadata": {},
   "source": [
    "---"
   ]
  },
  {
   "cell_type": "code",
   "execution_count": null,
   "metadata": {},
   "outputs": [
    {
     "data": {
      "text/plain": [
       "'11'"
      ]
     },
     "execution_count": 31,
     "metadata": {},
     "output_type": "execute_result"
    }
   ],
   "source": [
    "# format() metodu\n",
    "\n",
    "sayi = 11                           # Tam sayı tanımlaması\n",
    "\n",
    "string_ifade = \"{}\".format(sayi)    # format() ile sayıyı string'e dönüştürme\n",
    "\n",
    "string_ifade\n",
    "\n",
    "# format() metodu, Python'da string biçimlendirme için kullanılan bir yöntemdir. Bu metod, bir string içine değişkenlerin değerlerini yerleştirmek için kullanılır."
   ]
  },
  {
   "cell_type": "markdown",
   "metadata": {},
   "source": [
    "### <p style = \"color:red\">**11. Python ile bir ifadedeki boşlukları nasıl silersiniz?**</p>"
   ]
  },
  {
   "cell_type": "code",
   "execution_count": null,
   "metadata": {},
   "outputs": [
    {
     "data": {
      "text/plain": [
       "'Merhaba,dünya!'"
      ]
     },
     "execution_count": 32,
     "metadata": {},
     "output_type": "execute_result"
    }
   ],
   "source": [
    "# replace() metodu\n",
    "metin = \"Merhaba,   dünya!\"                  # Orijinal metin tanımlaması\n",
    "\n",
    "\n",
    "temiz_metin = metin.replace(\" \", \"\")        # replace() metodu ile boşlukları kaldırma\n",
    "\n",
    "temiz_metin\n",
    "\n",
    "# replace() metodu, bir string içindeki belirli bir karakteri ya da alt stringi başka bir karakterle veya stringle değiştirmek için kullanılır."
   ]
  },
  {
   "cell_type": "code",
   "execution_count": null,
   "metadata": {},
   "outputs": [
    {
     "data": {
      "text/plain": [
       "'Hello,world!'"
      ]
     },
     "execution_count": 33,
     "metadata": {},
     "output_type": "execute_result"
    }
   ],
   "source": [
    "# split() ve join() metodu\n",
    "\n",
    "metin = \"Hello,   world!\"              # Orijinal metin tanımlaması\n",
    "\n",
    "temiz_metin = ''.join(metin.split())   # split() ile boşluklara göre ayırma, join() ile birleştirme\n",
    "\n",
    "temiz_metin\n",
    "\n",
    "# join() metodu, bir listeyi belirli bir ayırıcı ile birleştirir ve tek bir string oluşturur."
   ]
  },
  {
   "cell_type": "code",
   "execution_count": null,
   "metadata": {},
   "outputs": [
    {
     "data": {
      "text/plain": [
       "'Selam, dünya!'"
      ]
     },
     "execution_count": 34,
     "metadata": {},
     "output_type": "execute_result"
    }
   ],
   "source": [
    "# strip() metodu ifadenin başındaki ve sonundaki boşlukları silmek için kullanılır.\n",
    "\n",
    "metin = \"   Selam, dünya!   \"\n",
    "\n",
    "temiz_metin = metin.strip()  # Sadece baş ve son boşlukları siler\n",
    "\n",
    "temiz_metin"
   ]
  },
  {
   "cell_type": "code",
   "execution_count": null,
   "metadata": {},
   "outputs": [
    {
     "data": {
      "text/plain": [
       "'   Selam, dünya!'"
      ]
     },
     "execution_count": 35,
     "metadata": {},
     "output_type": "execute_result"
    }
   ],
   "source": [
    "# rstrip() metodu ifadenin sonundaki boşlukları silmek için kullanılır.\n",
    "\n",
    "metin = \"   Selam, dünya!   \"\n",
    "\n",
    "temiz_metin = metin.rstrip()  # Sadece son boşlukları siler.\n",
    "\n",
    "temiz_metin"
   ]
  },
  {
   "cell_type": "code",
   "execution_count": null,
   "metadata": {},
   "outputs": [
    {
     "data": {
      "text/plain": [
       "'Selam, dünya!'"
      ]
     },
     "execution_count": 36,
     "metadata": {},
     "output_type": "execute_result"
    }
   ],
   "source": [
    "temiz_metin.lstrip()   # Soldaki boşlukları kaldırılmış metni yazdırma."
   ]
  },
  {
   "cell_type": "markdown",
   "metadata": {},
   "source": [
    "---"
   ]
  },
  {
   "cell_type": "markdown",
   "metadata": {},
   "source": [
    "#### Bonus Bilgi!!!"
   ]
  },
  {
   "cell_type": "markdown",
   "metadata": {},
   "source": [
    "https://medium.com/fedeveloper/regex-hakk%C4%B1nda-2c4e80501802"
   ]
  },
  {
   "cell_type": "code",
   "execution_count": 47,
   "metadata": {},
   "outputs": [
    {
     "name": "stdout",
     "output_type": "stream",
     "text": [
      "Merhaba,dünya!\n"
     ]
    }
   ],
   "source": [
    "#Regüler ifadeler (Regex) genellikle daha karmaşık durumlar için kullanılır.\n",
    "import re\n",
    "\n",
    "metin = \"Merhaba,   dünya!\"\n",
    "temiz_metin = re.sub(r'\\s+', '', metin)  # Tüm boşlukları siler\n",
    "print(temiz_metin)"
   ]
  },
  {
   "cell_type": "markdown",
   "metadata": {},
   "source": [
    "---"
   ]
  },
  {
   "cell_type": "markdown",
   "metadata": {},
   "source": [
    "### <p style = \"color:red\" >**12. Pythonda map() fonksiyonu ne işe yarar?** </p>"
   ]
  },
  {
   "cell_type": "markdown",
   "metadata": {},
   "source": [
    "* Python'da bir iterable (örneğin, liste) üzerinde belirli bir işlevi uygulamak için kullanılır. Bu fonksiyon, belirtilen işlevin her bir öğeye uygulanması sonucu yeni bir iterable döndürür.\n",
    "\n",
    "* Python 3'te map() fonksiyonu bir map nesnesi döndürür; bu nedenle, sonucu görmek için listeye dönüştürmek gerekebilir."
   ]
  },
  {
   "cell_type": "code",
   "execution_count": 21,
   "metadata": {},
   "outputs": [
    {
     "name": "stdout",
     "output_type": "stream",
     "text": [
      "[1, 4, 9, 16, 25]\n"
     ]
    }
   ],
   "source": [
    "def kare_al(x):  # Bir sayıyı kareye almayı sağlayan fonksiyon\n",
    "    return x ** 2  # Girdi olarak alınan sayıyı kendisiyle çarparak karesini döndürür\n",
    "\n",
    "sayilar = [1, 2, 3, 4, 5]  # Karesi alınacak sayılar listesi\n",
    "\n",
    "kareler = map(kare_al, sayilar)  # map() fonksiyonu ile her sayıya kare_al fonksiyonunu uygula\n",
    "\n",
    "kareler_listesi = list(kareler)  # map() sonucu dönen iterable'ı listeye dönüştür\n",
    "\n",
    "print(kareler_listesi)  # Karesi alınmış sayılar listesini yazdırma\n"
   ]
  },
  {
   "cell_type": "markdown",
   "metadata": {},
   "source": [
    "### <p style = \"color:red\">**13. Python'da bir listedeki elemanları nasıl rastgele karıştırırsınız?**</p>"
   ]
  },
  {
   "cell_type": "code",
   "execution_count": 22,
   "metadata": {},
   "outputs": [
    {
     "name": "stdout",
     "output_type": "stream",
     "text": [
      "[4, 3, 5, 1, 2]\n"
     ]
    }
   ],
   "source": [
    "import random  # random modülünü içe aktarma\n",
    "\n",
    "liste = [1, 2, 3, 4, 5]  # Bir liste tanımlanıyor\n",
    "\n",
    "random.shuffle(liste)  # Listeyi karıştırma\n",
    "\n",
    "print(liste)  # Karıştırılmış listeyi yazdırma\n"
   ]
  }
 ],
 "metadata": {
  "kernelspec": {
   "display_name": "Python 3",
   "language": "python",
   "name": "python3"
  },
  "language_info": {
   "codemirror_mode": {
    "name": "ipython",
    "version": 3
   },
   "file_extension": ".py",
   "mimetype": "text/x-python",
   "name": "python",
   "nbconvert_exporter": "python",
   "pygments_lexer": "ipython3",
   "version": "3.12.6"
  }
 },
 "nbformat": 4,
 "nbformat_minor": 2
}
